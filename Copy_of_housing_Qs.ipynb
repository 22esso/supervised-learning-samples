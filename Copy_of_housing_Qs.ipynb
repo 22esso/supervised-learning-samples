{
  "nbformat": 4,
  "nbformat_minor": 0,
  "metadata": {
    "colab": {
      "provenance": []
    },
    "kernelspec": {
      "name": "python3",
      "display_name": "Python 3"
    },
    "language_info": {
      "name": "python"
    }
  },
  "cells": [
    {
      "cell_type": "code",
      "execution_count": null,
      "metadata": {
        "colab": {
          "base_uri": "https://localhost:8080/"
        },
        "id": "splEczvqrKnn",
        "outputId": "98f7039a-23e3-4b36-ccef-635db8b86410"
      },
      "outputs": [
        {
          "output_type": "stream",
          "name": "stdout",
          "text": [
            "Drive already mounted at /content/drive; to attempt to forcibly remount, call drive.mount(\"/content/drive\", force_remount=True).\n"
          ]
        }
      ],
      "source": [
        "from google.colab import drive\n",
        "drive.mount('/content/drive')"
      ]
    },
    {
      "cell_type": "code",
      "source": [
        "import numpy as np\n",
        "import pandas as pd"
      ],
      "metadata": {
        "id": "HDzWtVwyreEF"
      },
      "execution_count": null,
      "outputs": []
    },
    {
      "cell_type": "code",
      "source": [
        "data = pd.read_csv('/content/drive/MyDrive/housing.csv')"
      ],
      "metadata": {
        "id": "-tf8-eqlrfiM"
      },
      "execution_count": null,
      "outputs": []
    },
    {
      "cell_type": "code",
      "source": [
        "data.shape #How many rows and columns are in the data?\n",
        "\n"
      ],
      "metadata": {
        "colab": {
          "base_uri": "https://localhost:8080/"
        },
        "id": "eR5H3gKur3Qk",
        "outputId": "008acb17-002c-43a1-e40c-cbbd7904fda9"
      },
      "execution_count": null,
      "outputs": [
        {
          "output_type": "execute_result",
          "data": {
            "text/plain": [
              "(20640, 11)"
            ]
          },
          "metadata": {},
          "execution_count": 6
        }
      ]
    },
    {
      "cell_type": "code",
      "source": [
        "#How many null values are in each column?\n",
        "data.isna().sum()\n",
        "#the column that contains the most null values is total_bedrooms"
      ],
      "metadata": {
        "colab": {
          "base_uri": "https://localhost:8080/"
        },
        "id": "DbnVq_fcr_2E",
        "outputId": "4924ac84-2213-4823-e5be-1718faa552da"
      },
      "execution_count": null,
      "outputs": [
        {
          "output_type": "execute_result",
          "data": {
            "text/plain": [
              "longitude                0\n",
              "latitude                 0\n",
              "housing_median_age     258\n",
              "total_rooms              0\n",
              "total_bedrooms        4882\n",
              "population              44\n",
              "households            1305\n",
              "median_income         2767\n",
              "median_house_value       0\n",
              "ocean_proximity          0\n",
              "gender                4020\n",
              "dtype: int64"
            ]
          },
          "metadata": {},
          "execution_count": 5
        }
      ]
    },
    {
      "cell_type": "code",
      "source": [
        "#What is the average number of total rooms and total bedrooms?\n",
        "avg_total_rooms=data[\"total_rooms\"].mean()\n",
        "print(avg_total_rooms)\n",
        "avg_total_bedrooms=data[\"total_bedrooms\"].mean()\n",
        "print(avg_total_bedrooms)\n",
        "#avergae of them both \n",
        "cols = ['total_rooms', 'total_bedrooms']\n",
        "avg_both=data[cols].mean()\n",
        "print(avg_both)\n",
        "#similiar answer\n"
      ],
      "metadata": {
        "colab": {
          "base_uri": "https://localhost:8080/"
        },
        "id": "J42MURSgt6Mt",
        "outputId": "01c985fd-8a39-45b6-dca6-1aa76762d5ba"
      },
      "execution_count": null,
      "outputs": [
        {
          "output_type": "stream",
          "name": "stdout",
          "text": [
            "2635.7630813953488\n",
            "539.9201040741211\n",
            "total_rooms       2635.763081\n",
            "total_bedrooms     539.920104\n",
            "dtype: float64\n"
          ]
        }
      ]
    },
    {
      "cell_type": "code",
      "source": [
        "#What are the different ocean proximity categories that we have?\n",
        "data['ocean_proximity'].value_counts()"
      ],
      "metadata": {
        "colab": {
          "base_uri": "https://localhost:8080/"
        },
        "id": "Cz24BZCvBhXq",
        "outputId": "634e0d6b-8572-4868-9e10-929cb9c798b2"
      },
      "execution_count": null,
      "outputs": [
        {
          "output_type": "execute_result",
          "data": {
            "text/plain": [
              "<1H OCEAN     9136\n",
              "INLAND        6551\n",
              "NEAR OCEAN    2658\n",
              "NEAR BAY      2290\n",
              "ISLAND           5\n",
              "Name: ocean_proximity, dtype: int64"
            ]
          },
          "metadata": {},
          "execution_count": 13
        }
      ]
    },
    {
      "cell_type": "code",
      "source": [
        "#What is the most frequent ocean proximity?we can plot to make it shown better \n",
        "import seaborn as sns\n",
        "sns.countplot(data=data, x='ocean_proximity')\n",
        "#plot clearly shows the most frequent which is <1H OCEAN "
      ],
      "metadata": {
        "colab": {
          "base_uri": "https://localhost:8080/",
          "height": 297
        },
        "id": "Vz7qA_skCfZJ",
        "outputId": "7004b99e-dcbf-4798-9891-0cd767ec5670"
      },
      "execution_count": null,
      "outputs": [
        {
          "output_type": "execute_result",
          "data": {
            "text/plain": [
              "<matplotlib.axes._subplots.AxesSubplot at 0x7f2b61092e50>"
            ]
          },
          "metadata": {},
          "execution_count": 14
        },
        {
          "output_type": "display_data",
          "data": {
            "text/plain": [
              "<Figure size 432x288 with 1 Axes>"
            ],
            "image/png": "[encoded data removed]"
          },
          "metadata": {
            "needs_background": "light"
          }
        }
      ]
    },
    {
      "cell_type": "code",
      "source": [
        "#What is the average median income overall?\n",
        "avg_median_income=data[\"median_income\"].mean()\n",
        "print(avg_total_bedrooms)"
      ],
      "metadata": {
        "colab": {
          "base_uri": "https://localhost:8080/"
        },
        "id": "Bd1waKV8De-w",
        "outputId": "80aad5b6-d596-4a10-beef-ce2c92c59e81"
      },
      "execution_count": null,
      "outputs": [
        {
          "output_type": "stream",
          "name": "stdout",
          "text": [
            "539.9201040741211\n"
          ]
        }
      ]
    },
    {
      "cell_type": "code",
      "source": [
        "#What is the average population for houses in a block where the median income is more than $80,0000?\n",
        "avg_pop=data.query(\"median_income>8\").population.mean()\n",
        "print(avg_pop)"
      ],
      "metadata": {
        "colab": {
          "base_uri": "https://localhost:8080/"
        },
        "id": "ZuN4U5JhE_Fh",
        "outputId": "c8f180a3-128b-4a25-9a6b-8e2bd480fb72"
      },
      "execution_count": null,
      "outputs": [
        {
          "output_type": "stream",
          "name": "stdout",
          "text": [
            "1262.5152905198777\n"
          ]
        }
      ]
    },
    {
      "cell_type": "code",
      "source": [
        "#What is the maximum and minimum number of total rooms for houses that are located inland?\n",
        "df=data\n",
        "df[df['ocean_proximity']=='INLAND'].total_rooms.min()"
      ],
      "metadata": {
        "colab": {
          "base_uri": "https://localhost:8080/"
        },
        "id": "BDR2JZ_eGg5g",
        "outputId": "5d12f750-c37a-4ea5-e5e8-b4715dd59c99"
      },
      "execution_count": null,
      "outputs": [
        {
          "output_type": "execute_result",
          "data": {
            "text/plain": [
              "2"
            ]
          },
          "metadata": {},
          "execution_count": 8
        }
      ]
    },
    {
      "cell_type": "code",
      "source": [
        "df2=data.groupby('ocean_proximity').mean()['median_house_value']"
      ],
      "metadata": {
        "id": "tnEznHXLXTJ9"
      },
      "execution_count": null,
      "outputs": []
    },
    {
      "cell_type": "code",
      "source": [
        "max_value=data.loc[data['ocean_proximity']=='INLAND'].max()\n",
        "print(max_value)"
      ],
      "metadata": {
        "colab": {
          "base_uri": "https://localhost:8080/"
        },
        "id": "Wur7jm9aOcis",
        "outputId": "89817912-d784-4bc1-f492-8f162d39206a"
      },
      "execution_count": null,
      "outputs": [
        {
          "output_type": "stream",
          "name": "stdout",
          "text": [
            "longitude             -114.31\n",
            "latitude                41.95\n",
            "housing_median_age       52.0\n",
            "total_rooms             39320\n",
            "total_bedrooms         6210.0\n",
            "population            16305.0\n",
            "median_income         15.0001\n",
            "median_house_value     500001\n",
            "ocean_proximity        INLAND\n",
            "dtype: object\n"
          ]
        },
        {
          "output_type": "stream",
          "name": "stderr",
          "text": [
            "<ipython-input-11-0d38b3cb1595>:1: FutureWarning: Dropping of nuisance columns in DataFrame reductions (with 'numeric_only=None') is deprecated; in a future version this will raise TypeError.  Select only valid columns before calling the reduction.\n",
            "  max_value=data.loc[data['ocean_proximity']=='INLAND'].max()\n"
          ]
        }
      ]
    },
    {
      "cell_type": "code",
      "source": [
        "data.groupby('ocean_proximity').mean()['median_house_value']"
      ],
      "metadata": {
        "colab": {
          "base_uri": "https://localhost:8080/"
        },
        "id": "CeevkqD2dE4h",
        "outputId": "70c67aa9-763c-411e-f743-c7f8277c479b"
      },
      "execution_count": null,
      "outputs": [
        {
          "output_type": "execute_result",
          "data": {
            "text/plain": [
              "ocean_proximity\n",
              "<1H OCEAN     240084.285464\n",
              "INLAND        124805.392001\n",
              "ISLAND        380440.000000\n",
              "NEAR BAY      259212.311790\n",
              "NEAR OCEAN    249433.977427\n",
              "Name: median_house_value, dtype: float64"
            ]
          },
          "metadata": {},
          "execution_count": 13
        }
      ]
    },
    {
      "cell_type": "code",
      "source": [
        "#The average housing median age for houses located near ocean is more than houses located inland\n",
        "avg_hma=data.groupby('ocean_proximity').mean()\n",
        "print(avg_hma)"
      ],
      "metadata": {
        "colab": {
          "base_uri": "https://localhost:8080/"
        },
        "id": "5Lbm3ZZ1iX39",
        "outputId": "a0da42cf-3e96-45c5-8b86-c25197502b03"
      },
      "execution_count": null,
      "outputs": [
        {
          "output_type": "stream",
          "name": "stdout",
          "text": [
            "                  longitude   latitude  housing_median_age  total_rooms  \\\n",
            "ocean_proximity                                                           \n",
            "<1H OCEAN       -118.847766  34.560577           29.356692  2628.343586   \n",
            "INLAND          -119.732990  36.731829           24.243496  2717.742787   \n",
            "ISLAND          -118.354000  33.358000           42.400000  1574.600000   \n",
            "NEAR BAY        -122.260694  37.801057           37.666960  2493.589520   \n",
            "NEAR OCEAN      -119.332555  34.738439           29.365725  2583.700903   \n",
            "\n",
            "                 total_bedrooms   population  median_income  \\\n",
            "ocean_proximity                                               \n",
            "<1H OCEAN            544.260720  1520.392363       4.223484   \n",
            "INLAND               540.172075  1390.907257       3.156707   \n",
            "ISLAND               420.400000   668.000000       2.744420   \n",
            "NEAR BAY             520.746541  1231.007891       4.172885   \n",
            "NEAR OCEAN           539.648895  1349.007544       4.233445   \n",
            "\n",
            "                 median_house_value  \n",
            "ocean_proximity                      \n",
            "<1H OCEAN             240084.285464  \n",
            "INLAND                124805.392001  \n",
            "ISLAND                380440.000000  \n",
            "NEAR BAY              259212.311790  \n",
            "NEAR OCEAN            249433.977427  \n"
          ]
        }
      ]
    }
  ]
}