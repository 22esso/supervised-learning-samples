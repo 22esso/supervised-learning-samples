{
  "nbformat": 4,
  "nbformat_minor": 0,
  "metadata": {
    "colab": {
      "provenance": []
    },
    "kernelspec": {
      "name": "python3",
      "display_name": "Python 3"
    },
    "language_info": {
      "name": "python"
    },
    "accelerator": "GPU",
    "gpuClass": "standard"
  },
  "cells": [
    {
      "cell_type": "code",
      "execution_count": 13,
      "metadata": {
        "id": "MU1dyD04E5rq"
      },
      "outputs": [],
      "source": [
        "import numpy as np\n",
        "from keras.datasets import mnist\n",
        "\n",
        "# Dividing the data into training and testing\n",
        "(X_train_full, y_train_full), (X_test, y_test) = mnist.load_data()\n",
        "\n",
        "X = X_train_full[:10000].reshape(-1, 28*28)\n",
        "y = y_train_full[:10000]\n",
        "\n",
        "mean = X.mean(axis=0)\n",
        "std = X.std(axis=0) + 1e-10 \n",
        "X = (X - mean) / std"
      ]
    },
    {
      "cell_type": "code",
      "source": [
        "# Creating the K-Fold\n",
        "k = 10\n",
        "fold_size = len(X) // k\n",
        "folds_X = [X[i*fold_size:(i+1)*fold_size] for i in range(k)]\n",
        "folds_y = [y[i*fold_size:(i+1)*fold_size] for i in range(k)]"
      ],
      "metadata": {
        "id": "qyBvUdcVKbOZ"
      },
      "execution_count": 14,
      "outputs": []
    },
    {
      "cell_type": "code",
      "source": [
        "# Train and validate the model with different learning rates \n",
        "learning_rates = [0.1, 0.01, 0.001, 0.0001]\n",
        "for lr in learning_rates:\n",
        "    accuracy = []\n",
        "    for i in range(k):\n",
        "        X_val = folds_X[i]\n",
        "        y_val = folds_y[i]\n",
        "        X_train = np.concatenate(folds_X[:i] + folds_X[i+1:], axis=0)\n",
        "        y_train = np.concatenate(folds_y[:i] + folds_y[i+1:], axis=0)\n",
        "\n",
        "        w = np.random.randn(784, 10)\n",
        "        b = np.zeros(10)\n",
        "\n",
        "        # Train the logistic regression model\n",
        "        for epoch in range(50):\n",
        "            for j in range(len(X_train)):\n",
        "                z = X_train[j] @ w + b\n",
        "\n",
        "                exp_z = np.exp(z)\n",
        "                sum_exp_z = np.sum(exp_z)\n",
        "                p = exp_z / sum_exp_z\n",
        "\n",
        "                dL_dp = p\n",
        "                dL_dp[y_train[j]] -= 1\n",
        "                dp_dz = np.diag(p) - np.outer(p, p)\n",
        "                dz_dw = X_train[j]\n",
        "                dz_db = 1\n",
        "                dL_dw = dz_dw.reshape(-1, 1) @ (dL_dp @ dp_dz).reshape(1, -1)\n",
        "                dL_db = (dL_dp @ dp_dz) * dz_db\n",
        "\n",
        "                w -= lr * dL_dw\n",
        "                b -= lr * dL_db\n",
        "\n",
        "        # Validate the model\n",
        "        z_val = X_val @ w + b\n",
        "        y_pred = np.argmax(z_val, axis=1)\n",
        "        acc = np.mean(y_pred == y_val)\n",
        "        accuracy.append(acc)\n",
        "\n",
        "    # Print out the accuracy for each learning rate\n",
        "    mean_acc = np.mean(accuracy)\n",
        "    std_acc = np.std(accuracy)\n",
        "    print(f\"Learning rate: {lr}, Accuracy: {mean_acc:.3f}\")"
      ],
      "metadata": {
        "colab": {
          "base_uri": "https://localhost:8080/",
          "height": 299
        },
        "id": "3Q9TDuGhKiYS",
        "outputId": "b59b4bb3-ffaf-4c56-b179-7202de52cc64"
      },
      "execution_count": 17,
      "outputs": [
        {
          "output_type": "stream",
          "name": "stderr",
          "text": [
            "<ipython-input-17-7f854be9520a>:19: RuntimeWarning: overflow encountered in exp\n",
            "  exp_z = np.exp(z)\n",
            "<ipython-input-17-7f854be9520a>:21: RuntimeWarning: invalid value encountered in true_divide\n",
            "  p = exp_z / sum_exp_z\n"
          ]
        },
        {
          "output_type": "error",
          "ename": "KeyboardInterrupt",
          "evalue": "ignored",
          "traceback": [
            "\u001b[0;31m---------------------------------------------------------------------------\u001b[0m",
            "\u001b[0;31mKeyboardInterrupt\u001b[0m                         Traceback (most recent call last)",
            "\u001b[0;32m<ipython-input-17-7f854be9520a>\u001b[0m in \u001b[0;36m<cell line: 3>\u001b[0;34m()\u001b[0m\n\u001b[1;32m     30\u001b[0m \u001b[0;34m\u001b[0m\u001b[0m\n\u001b[1;32m     31\u001b[0m                 \u001b[0mw\u001b[0m \u001b[0;34m-=\u001b[0m \u001b[0mlr\u001b[0m \u001b[0;34m*\u001b[0m \u001b[0mdL_dw\u001b[0m\u001b[0;34m\u001b[0m\u001b[0;34m\u001b[0m\u001b[0m\n\u001b[0;32m---> 32\u001b[0;31m                 \u001b[0mb\u001b[0m \u001b[0;34m-=\u001b[0m \u001b[0mlr\u001b[0m \u001b[0;34m*\u001b[0m \u001b[0mdL_db\u001b[0m\u001b[0;34m\u001b[0m\u001b[0;34m\u001b[0m\u001b[0m\n\u001b[0m\u001b[1;32m     33\u001b[0m \u001b[0;34m\u001b[0m\u001b[0m\n\u001b[1;32m     34\u001b[0m         \u001b[0;31m# Validate the model\u001b[0m\u001b[0;34m\u001b[0m\u001b[0;34m\u001b[0m\u001b[0m\n",
            "\u001b[0;31mKeyboardInterrupt\u001b[0m: "
          ]
        }
      ]
    }
  ]
}